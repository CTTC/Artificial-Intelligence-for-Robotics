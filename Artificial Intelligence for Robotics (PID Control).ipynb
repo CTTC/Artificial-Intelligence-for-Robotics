{
 "cells": [
  {
   "cell_type": "markdown",
   "metadata": {},
   "source": [
    "# Artificial Intelligence for Robotics\n",
    "* Path Smoothing"
   ]
  },
  {
   "cell_type": "code",
   "execution_count": 45,
   "metadata": {
    "collapsed": true
   },
   "outputs": [],
   "source": [
    "# -----------\n",
    "# Define a function smooth that takes a path as its input\n",
    "# (with optional parameters for weight_data, weight_smooth,\n",
    "# and tolerance) and returns a smooth path. The first and \n",
    "# last points should remain unchanged.\n",
    "#\n",
    "# Smoothing should be implemented by iteratively updating\n",
    "# each entry in newpath until some desired level of accuracy\n",
    "# is reached. The update should be done according to the\n",
    "# gradient descent equations given in the instructor's note\n",
    "# below (the equations given in the video are not quite \n",
    "# correct).\n",
    "# -----------\n",
    "\n",
    "from copy import deepcopy\n",
    "\n",
    "# thank you to EnTerr for posting this on our discussion forum\n",
    "def printpaths(path,newpath):\n",
    "    for old,new in zip(path,newpath):\n",
    "        print '['+ ', '.join('%.3f'%x for x in old) + \\\n",
    "               '] -> ['+ ', '.join('%.3f'%x for x in new) +']'\n",
    "\n",
    "# Don't modify path inside your function.\n",
    "path = [[0, 0],\n",
    "        [0, 1],\n",
    "        [0, 2],\n",
    "        [1, 2],\n",
    "        [2, 2],\n",
    "        [3, 2],\n",
    "        [4, 2],\n",
    "        [4, 3],\n",
    "        [4, 4]]\n",
    "\n",
    "def smooth(path, weight_data = 0.5, weight_smooth = 0.1, tolerance = 0.000001):\n",
    "\n",
    "    # Make a deep copy of path into newpath\n",
    "    newpath = deepcopy(path)\n",
    "\n",
    "    change = tolerance\n",
    "    while change >= tolerance:\n",
    "        change = 0\n",
    "        for i in range(1,len(path) - 1):\n",
    "            for j in range(len(path[0])):\n",
    "                oldpath = newpath[i][j]\n",
    "                newpath[i][j] += weight_data * (path[i][j] - newpath[i][j]) + weight_smooth * (newpath[i+1][j] + newpath[i-1][j] - 2 * newpath[i][j])\n",
    "                change += abs(newpath[i][j] - oldpath) \n",
    "    return newpath"
   ]
  },
  {
   "cell_type": "code",
   "execution_count": 46,
   "metadata": {
    "collapsed": false
   },
   "outputs": [
    {
     "name": "stdout",
     "output_type": "stream",
     "text": [
      "[0.000, 0.000] -> [0.000, 0.000]\n",
      "[0.000, 1.000] -> [0.021, 0.979]\n",
      "[0.000, 2.000] -> [0.149, 1.851]\n",
      "[1.000, 2.000] -> [1.021, 1.979]\n",
      "[2.000, 2.000] -> [2.000, 2.000]\n",
      "[3.000, 2.000] -> [2.979, 2.021]\n",
      "[4.000, 2.000] -> [3.851, 2.149]\n",
      "[4.000, 3.000] -> [3.979, 3.021]\n",
      "[4.000, 4.000] -> [4.000, 4.000]\n"
     ]
    }
   ],
   "source": [
    "printpaths(path,smooth(path))"
   ]
  },
  {
   "cell_type": "code",
   "execution_count": 47,
   "metadata": {
    "collapsed": false
   },
   "outputs": [],
   "source": [
    "import matplotlib.pyplot as plt\n",
    "%matplotlib inline\n",
    "\n",
    "def make_plot(oldpath, newpath):\n",
    "    plt.rcParams.update({'figure.figsize': (len(path)/2,len(path)/2)})\n",
    "    x = []\n",
    "    y = []\n",
    "    y_max = max(path)[0]\n",
    "    y_min = 0\n",
    "    x_max = 0\n",
    "    x_min = 0\n",
    "    for i in range(len(oldpath)):\n",
    "        y.append(oldpath[i][0])\n",
    "        x.append(oldpath[i][1])\n",
    "        if oldpath[i][1] > x_max:\n",
    "            x_max = path[i][1]\n",
    "    plt.plot(x, y, linewidth=4.0, linestyle = '-', color = 'r')\n",
    "    plt.hold('on')\n",
    "    \n",
    "    x = []\n",
    "    y = []\n",
    "    for i in range(len(newpath)):\n",
    "        y.append(newpath[i][0])\n",
    "        x.append(newpath[i][1])\n",
    "        if newpath[i][1] > x_max:\n",
    "            x_max = path[i][1]\n",
    "\n",
    "    plt.plot(x, y, linewidth=4.0, linestyle = '-', color = 'b')\n",
    "    plt.rcParams.update({'font.size': 16})\n",
    "    plt.tight_layout()\n",
    "    plt.xticks(range(x_min,x_max+1))\n",
    "    plt.yticks(range(y_min,y_max+1))\n",
    "    plt.xlabel('columns')\n",
    "    plt.ylabel('rows')\n",
    "    plt.grid(color='k', linestyle=':', linewidth=1)\n",
    "    plt.axis('equal')\n",
    "    plt.gca().invert_yaxis()"
   ]
  },
  {
   "cell_type": "code",
   "execution_count": 52,
   "metadata": {
    "collapsed": false
   },
   "outputs": [
    {
     "data": {
      "image/png": "[encoded data removed]",
      "text/plain": [
       "<matplotlib.figure.Figure at 0x724d9e8>"
      ]
     },
     "metadata": {},
     "output_type": "display_data"
    }
   ],
   "source": [
    "make_plot(path,smooth(path,))"
   ]
  },
  {
   "cell_type": "code",
   "execution_count": 49,
   "metadata": {
    "collapsed": false
   },
   "outputs": [
    {
     "data": {
      "image/png": "[encoded data removed]",
      "text/plain": [
       "<matplotlib.figure.Figure at 0x7c1cfd0>"
      ]
     },
     "metadata": {},
     "output_type": "display_data"
    }
   ],
   "source": [
    "make_plot(path,smooth(path,0,0.1))"
   ]
  },
  {
   "cell_type": "code",
   "execution_count": 51,
   "metadata": {
    "collapsed": false
   },
   "outputs": [
    {
     "name": "stdout",
     "output_type": "stream",
     "text": [
      "[0.000, 0.000] -> [0.000, 0.000]\n",
      "[0.000, 1.000] -> [0.500, 0.500]\n",
      "[0.000, 2.000] -> [1.000, 1.000]\n",
      "[1.000, 2.000] -> [1.500, 1.500]\n",
      "[2.000, 2.000] -> [2.000, 2.000]\n",
      "[3.000, 2.000] -> [2.500, 2.500]\n",
      "[4.000, 2.000] -> [3.000, 3.000]\n",
      "[4.000, 3.000] -> [3.500, 3.500]\n",
      "[4.000, 4.000] -> [4.000, 4.000]\n"
     ]
    }
   ],
   "source": [
    "printpaths(path,smooth(path,0,0.1))"
   ]
  },
  {
   "cell_type": "code",
   "execution_count": null,
   "metadata": {
    "collapsed": true
   },
   "outputs": [],
   "source": []
  }
 ],
 "metadata": {
  "kernelspec": {
   "display_name": "Python 2",
   "language": "python",
   "name": "python2"
  },
  "language_info": {
   "codemirror_mode": {
    "name": "ipython",
    "version": 2
   },
   "file_extension": ".py",
   "mimetype": "text/x-python",
   "name": "python",
   "nbconvert_exporter": "python",
   "pygments_lexer": "ipython2",
   "version": "2.7.11"
  }
 },
 "nbformat": 4,
 "nbformat_minor": 0
}
