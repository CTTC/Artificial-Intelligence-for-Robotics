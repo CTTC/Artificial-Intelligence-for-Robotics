{
 "cells": [
  {
   "cell_type": "markdown",
   "metadata": {},
   "source": [
    "# Artificial Intelligence for Robotics\n",
    "* Path Smoothing (Non-cyclic path smoothing, cyclic path smoothing, constrained path smoothing)\n",
    "* PID Control\n",
    "* Twiddle Algorithm for parameter optimization"
   ]
  },
  {
   "cell_type": "markdown",
   "metadata": {},
   "source": [
    "## Path Smoothing"
   ]
  },
  {
   "cell_type": "code",
   "execution_count": 1,
   "metadata": {
    "collapsed": true
   },
   "outputs": [],
   "source": [
    "# -----------\n",
    "# Define a function smooth that takes a path as its input\n",
    "# (with optional parameters for weight_data, weight_smooth,\n",
    "# and tolerance) and returns a smooth path. The first and \n",
    "# last points should remain unchanged.\n",
    "#\n",
    "# Smoothing should be implemented by iteratively updating\n",
    "# each entry in newpath until some desired level of accuracy\n",
    "# is reached. The update should be done according to the\n",
    "# gradient descent equations given in the instructor's note\n",
    "# below (the equations given in the video are not quite \n",
    "# correct).\n",
    "# -----------\n",
    "\n",
    "from copy import deepcopy\n",
    "\n",
    "# thank you to EnTerr for posting this on our discussion forum\n",
    "def printpaths(path,newpath):\n",
    "    for old,new in zip(path,newpath):\n",
    "        print '['+ ', '.join('%.3f'%x for x in old) + \\\n",
    "               '] -> ['+ ', '.join('%.3f'%x for x in new) +']'\n",
    "\n",
    "# Don't modify path inside your function.\n",
    "path = [[0, 0],\n",
    "        [0, 1],\n",
    "        [0, 2],\n",
    "        [1, 2],\n",
    "        [2, 2],\n",
    "        [3, 2],\n",
    "        [4, 2],\n",
    "        [4, 3],\n",
    "        [4, 4]]\n",
    "\n",
    "def smooth(path, weight_data = 0.5, weight_smooth = 0.1, tolerance = 0.000001):\n",
    "\n",
    "    # Make a deep copy of path into newpath\n",
    "    newpath = deepcopy(path)\n",
    "\n",
    "    change = tolerance\n",
    "    while change >= tolerance:\n",
    "        change = 0\n",
    "        for i in range(1,len(path) - 1):\n",
    "            for j in range(len(path[0])):\n",
    "                oldpath = newpath[i][j]\n",
    "                newpath[i][j] += weight_data * (path[i][j] - newpath[i][j]) + weight_smooth * (newpath[i+1][j] + newpath[i-1][j] - 2 * newpath[i][j])\n",
    "                change += abs(newpath[i][j] - oldpath) \n",
    "    return newpath"
   ]
  },
  {
   "cell_type": "code",
   "execution_count": 2,
   "metadata": {
    "collapsed": false
   },
   "outputs": [
    {
     "name": "stdout",
     "output_type": "stream",
     "text": [
      "[0.000, 0.000] -> [0.000, 0.000]\n",
      "[0.000, 1.000] -> [0.021, 0.979]\n",
      "[0.000, 2.000] -> [0.149, 1.851]\n",
      "[1.000, 2.000] -> [1.021, 1.979]\n",
      "[2.000, 2.000] -> [2.000, 2.000]\n",
      "[3.000, 2.000] -> [2.979, 2.021]\n",
      "[4.000, 2.000] -> [3.851, 2.149]\n",
      "[4.000, 3.000] -> [3.979, 3.021]\n",
      "[4.000, 4.000] -> [4.000, 4.000]\n"
     ]
    }
   ],
   "source": [
    "printpaths(path,smooth(path))"
   ]
  },
  {
   "cell_type": "code",
   "execution_count": 3,
   "metadata": {
    "collapsed": false
   },
   "outputs": [],
   "source": [
    "import matplotlib.pyplot as plt\n",
    "%matplotlib inline\n",
    "\n",
    "def plot_paths(oldpath, newpath):\n",
    "    #plt.rcParams.update({'figure.figsize': (len(oldpath)/2,len(oldpath)/2)})\n",
    "    x = []\n",
    "    y = []\n",
    "    y_max = max(oldpath)[0]\n",
    "    y_min = min(oldpath)[0]\n",
    "    x_max = -1000\n",
    "    x_min = 1000\n",
    "    for i in range(len(oldpath)):\n",
    "        y.append(oldpath[i][0])\n",
    "        x.append(oldpath[i][1])\n",
    "        if oldpath[i][1] > x_max:\n",
    "            x_max = oldpath[i][1]\n",
    "        if oldpath[i][1] < x_min:\n",
    "            x_min = oldpath[i][1]\n",
    "    plt.plot(x, y, 'o',linewidth=2.0, linestyle = '-', color = 'r')\n",
    "    plt.hold('on')\n",
    "    \n",
    "    x = []\n",
    "    y = []\n",
    "    for i in range(len(newpath)):\n",
    "        y.append(newpath[i][0])\n",
    "        x.append(newpath[i][1])\n",
    "        if newpath[i][1] > x_max:\n",
    "            x_max = newpath[i][1]\n",
    "        if newpath[i][1] < x_min:\n",
    "            x_min = newpath[i][1]\n",
    "\n",
    "    plt.plot(x, y, '*',linewidth=2.0, linestyle = '-', color = 'b')\n",
    "    plt.rcParams.update({'font.size': 16})\n",
    "    plt.tight_layout()\n",
    "    plt.xticks(range(int(x_min)-1,int(x_max)+2))\n",
    "    plt.yticks(range(int(y_min)-1,int(y_max)+2))\n",
    "    plt.xlabel('columns')\n",
    "    plt.ylabel('rows')\n",
    "    plt.grid(color='k', linestyle=':', linewidth=1)\n",
    "    plt.axis('equal')\n",
    "    plt.gca().invert_yaxis()"
   ]
  },
  {
   "cell_type": "code",
   "execution_count": 4,
   "metadata": {
    "collapsed": false
   },
   "outputs": [
    {
     "data": {
      "image/png": "[encoded data removed]",
      "text/plain": [
       "<matplotlib.figure.Figure at 0x3e6e908>"
      ]
     },
     "metadata": {},
     "output_type": "display_data"
    }
   ],
   "source": [
    "plot_paths(path,smooth(path,))"
   ]
  },
  {
   "cell_type": "code",
   "execution_count": 5,
   "metadata": {
    "collapsed": false
   },
   "outputs": [
    {
     "data": {
      "image/png": "[encoded data removed]",
      "text/plain": [
       "<matplotlib.figure.Figure at 0x73d0eb8>"
      ]
     },
     "metadata": {},
     "output_type": "display_data"
    }
   ],
   "source": [
    "plot_paths(path,smooth(path,0,0.1))"
   ]
  },
  {
   "cell_type": "code",
   "execution_count": null,
   "metadata": {
    "collapsed": false
   },
   "outputs": [],
   "source": []
  },
  {
   "cell_type": "markdown",
   "metadata": {},
   "source": [
    "## PID Control"
   ]
  },
  {
   "cell_type": "code",
   "execution_count": 6,
   "metadata": {
    "collapsed": false
   },
   "outputs": [],
   "source": [
    "# -----------\n",
    "# User Instructions\n",
    "#\n",
    "# Implement a P controller by running 100 iterations\n",
    "# of robot motion. The desired trajectory for the \n",
    "# robot is the x-axis. The steering angle should be set\n",
    "# by the parameter tau so that:\n",
    "#\n",
    "# steering = -tau * crosstrack_error\n",
    "#\n",
    "# Note that tau is called \"param\" in the function\n",
    "# below.\n",
    "#\n",
    "# Your code should print output that looks like\n",
    "# the output shown in the video. That is, at each step:\n",
    "# print myrobot, steering\n",
    "#\n",
    "\n",
    " \n",
    "from math import *\n",
    "import random\n",
    "\n",
    "\n",
    "# ------------------------------------------------\n",
    "# \n",
    "# this is the robot class\n",
    "#\n",
    "\n",
    "class robot:\n",
    "\n",
    "    # --------\n",
    "    # init: \n",
    "    #    creates robot and initializes location/orientation to 0, 0, 0\n",
    "    #\n",
    "\n",
    "    def __init__(self, length = 20.0):\n",
    "        self.x = 0.0\n",
    "        self.y = 0.0\n",
    "        self.orientation = 0.0\n",
    "        self.length = length\n",
    "        self.steering_noise = 0.0\n",
    "        self.distance_noise = 0.0\n",
    "        self.steering_drift = 0.0\n",
    "\n",
    "    # --------\n",
    "    # set: \n",
    "    #\tsets a robot coordinate\n",
    "    #\n",
    "\n",
    "    def set(self, new_x, new_y, new_orientation):\n",
    "\n",
    "        self.x = float(new_x)\n",
    "        self.y = float(new_y)\n",
    "        self.orientation = float(new_orientation) % (2.0 * pi)\n",
    "\n",
    "\n",
    "    # --------\n",
    "    # set_noise: \n",
    "    #\tsets the noise parameters\n",
    "    #\n",
    "\n",
    "    def set_noise(self, new_s_noise, new_d_noise):\n",
    "        # makes it possible to change the noise parameters\n",
    "        # this is often useful in particle filters\n",
    "        self.steering_noise = float(new_s_noise)\n",
    "        self.distance_noise = float(new_d_noise)\n",
    "\n",
    "    # --------\n",
    "    # set_steering_drift: \n",
    "    #\tsets the systematical steering drift parameter\n",
    "    #\n",
    "\n",
    "    def set_steering_drift(self, drift):\n",
    "        self.steering_drift = drift\n",
    "        \n",
    "    # --------\n",
    "    # move: \n",
    "    #    steering = front wheel steering angle, limited by max_steering_angle\n",
    "    #    distance = total distance driven, most be non-negative\n",
    "\n",
    "    def move(self, steering, distance, \n",
    "             tolerance = 0.001, max_steering_angle = pi / 4.0):\n",
    "\n",
    "        if steering > max_steering_angle:\n",
    "            steering = max_steering_angle\n",
    "        if steering < -max_steering_angle:\n",
    "            steering = -max_steering_angle\n",
    "        if distance < 0.0:\n",
    "            distance = 0.0\n",
    "\n",
    "\n",
    "        # make a new copy\n",
    "        res = robot()\n",
    "        res.length         = self.length\n",
    "        res.steering_noise = self.steering_noise\n",
    "        res.distance_noise = self.distance_noise\n",
    "        res.steering_drift = self.steering_drift\n",
    "\n",
    "        # apply noise\n",
    "        steering2 = random.gauss(steering, self.steering_noise)\n",
    "        distance2 = random.gauss(distance, self.distance_noise)\n",
    "\n",
    "        # apply steering drift\n",
    "        steering2 += self.steering_drift\n",
    "\n",
    "        # Execute motion\n",
    "        turn = tan(steering2) * distance2 / res.length\n",
    "\n",
    "        if abs(turn) < tolerance:\n",
    "\n",
    "            # approximate by straight line motion\n",
    "\n",
    "            res.x = self.x + (distance2 * cos(self.orientation))\n",
    "            res.y = self.y + (distance2 * sin(self.orientation))\n",
    "            res.orientation = (self.orientation + turn) % (2.0 * pi)\n",
    "\n",
    "        else:\n",
    "\n",
    "            # approximate bicycle model for motion\n",
    "\n",
    "            radius = distance2 / turn\n",
    "            cx = self.x - (sin(self.orientation) * radius)\n",
    "            cy = self.y + (cos(self.orientation) * radius)\n",
    "            res.orientation = (self.orientation + turn) % (2.0 * pi)\n",
    "            res.x = cx + (sin(res.orientation) * radius)\n",
    "            res.y = cy - (cos(res.orientation) * radius)\n",
    "\n",
    "        return res\n",
    "\n",
    "    def __repr__(self):\n",
    "        return '[x=%.5f y=%.5f orient=%.5f]'  % (self.x, self.y, self.orientation)\n",
    "\n",
    "    \n",
    "# ------------------------------------------------------------------------\n",
    "#\n",
    "# run - does a single control run\n",
    "\n",
    "\n",
    "def run(param1, param2 = 0.,param3 = 0., steering_drift = 0.,print_flag = False):\n",
    "    myrobot = robot()\n",
    "    myrobot.set(0.0, 1.0, 0.0)\n",
    "    myrobot.set_steering_drift(steering_drift)\n",
    "    speed = 1.0 # motion distance is equal to speed (we assume time = 1)\n",
    "    N = 100\n",
    "    path_x = []\n",
    "    path_y = []\n",
    "    #\n",
    "    time_interval = 1\n",
    "    crosstrack_error = 0.\n",
    "    crosstrack_error_int = 0.\n",
    "    for i in range(N):\n",
    "        path_x.append(myrobot.x)\n",
    "        path_y.append(myrobot.y)\n",
    "        crosstrack_error_old = crosstrack_error\n",
    "        crosstrack_error = myrobot.y\n",
    "        crosstrack_error_int += crosstrack_error\n",
    "        crosstrack_error_der = (crosstrack_error - crosstrack_error_old) / float(time_interval)\n",
    "        steering = -param1 * crosstrack_error - param2 * crosstrack_error_der - param3 * crosstrack_error_int\n",
    "        myrobot = myrobot.move(steering, speed) \n",
    "        if print_flag:\n",
    "            print myrobot, steering\n",
    "    \n",
    "    return path_x, path_y        \n",
    "    # "
   ]
  },
  {
   "cell_type": "code",
   "execution_count": 7,
   "metadata": {
    "collapsed": false
   },
   "outputs": [],
   "source": [
    "def plot_PID_response(x,y,label=''):    \n",
    "    plt.plot(x, y, linewidth=4.0, linestyle = '-',label = label)\n",
    "    plt.rcParams.update({'font.size': 16})\n",
    "    plt.xlabel('x')\n",
    "    plt.ylabel('y')\n",
    "    plt.axis('auto')\n",
    "    plt.legend(loc='best', prop={'size':10})\n",
    "    plt.title('Car Movement')"
   ]
  },
  {
   "cell_type": "code",
   "execution_count": 8,
   "metadata": {
    "collapsed": false
   },
   "outputs": [
    {
     "data": {
      "image/png": "[encoded data removed]",
      "text/plain": [
       "<matplotlib.figure.Figure at 0x750b278>"
      ]
     },
     "metadata": {},
     "output_type": "display_data"
    }
   ],
   "source": [
    "#Test\n",
    "path_x, path_y = run(0.1,0.) # call function with parameter tau of 0.1 and print results\n",
    "plot_PID_response(path_x,path_y,'kp=0.1')\n",
    "path_x, path_y = run(0.3,0.)\n",
    "plot_PID_response(path_x,path_y,'kp=0.3')"
   ]
  },
  {
   "cell_type": "code",
   "execution_count": 9,
   "metadata": {
    "collapsed": false
   },
   "outputs": [
    {
     "data": {
      "image/png": "[encoded data removed]",
      "text/plain": [
       "<matplotlib.figure.Figure at 0x790a588>"
      ]
     },
     "metadata": {},
     "output_type": "display_data"
    }
   ],
   "source": [
    "path_x, path_y = run(0.1,3.0) # call function with parameter tau of 0.1 and print results\n",
    "plot_PID_response(path_x,path_y,'kp=0.1, kd=3.0')\n",
    "path_x, path_y = run(0.3,3.0)\n",
    "plot_PID_response(path_x,path_y,'kp=0.3, kd=3.0')"
   ]
  },
  {
   "cell_type": "code",
   "execution_count": 10,
   "metadata": {
    "collapsed": false
   },
   "outputs": [
    {
     "data": {
      "image/png": "[encoded data removed]",
      "text/plain": [
       "<matplotlib.figure.Figure at 0x7b2d048>"
      ]
     },
     "metadata": {},
     "output_type": "display_data"
    }
   ],
   "source": [
    "path_x, path_y = run(0.1,0.,0.,10/180.) # call function with parameter tau of 0.1 and print results\n",
    "plot_PID_response(path_x,path_y,'steering_drift = 10')\n",
    "path_x, path_y = run(0.1,0.,0.,0.) # call function with parameter tau of 0.1 and print results\n",
    "plot_PID_response(path_x,path_y,'steering_drift = 0')"
   ]
  },
  {
   "cell_type": "code",
   "execution_count": 11,
   "metadata": {
    "collapsed": false
   },
   "outputs": [
    {
     "data": {
      "image/png": "[encoded data removed]",
      "text/plain": [
       "<matplotlib.figure.Figure at 0x7c72f28>"
      ]
     },
     "metadata": {},
     "output_type": "display_data"
    }
   ],
   "source": [
    "path_x, path_y = run(0.2,3.,0.,10/180.) # call function with parameter tau of 0.1 and print results\n",
    "plot_PID_response(path_x,path_y,'steering_drift = 10')\n",
    "path_x, path_y = run(0.2,3.,0.,0.) # call function with parameter tau of 0.1 and print results\n",
    "plot_PID_response(path_x,path_y,'steering_drift = 0')"
   ]
  },
  {
   "cell_type": "code",
   "execution_count": 12,
   "metadata": {
    "collapsed": false
   },
   "outputs": [
    {
     "data": {
      "image/png": "[encoded data removed]",
      "text/plain": [
       "<matplotlib.figure.Figure at 0x80513c8>"
      ]
     },
     "metadata": {},
     "output_type": "display_data"
    }
   ],
   "source": [
    "path_x, path_y = run(0.2,3.,0.01,10/180.) # call function with parameter tau of 0.1 and print results\n",
    "plot_PID_response(path_x,path_y,'steering_drift = 10')\n",
    "path_x, path_y = run(0.2,3.,0.01,0.) # call function with parameter tau of 0.1 and print results\n",
    "plot_PID_response(path_x,path_y,'steering_drift = 0')"
   ]
  },
  {
   "cell_type": "markdown",
   "metadata": {},
   "source": [
    "## PID Parameter Tuning - Twiddle"
   ]
  },
  {
   "cell_type": "code",
   "execution_count": 13,
   "metadata": {
    "collapsed": true
   },
   "outputs": [],
   "source": [
    "def run_return_error(params, printflag = False):\n",
    "    myrobot = robot()\n",
    "    myrobot.set(0.0, 1.0, 0.0)\n",
    "    speed = 1.0\n",
    "    err = 0.0\n",
    "    int_crosstrack_error = 0.0\n",
    "    N = 100\n",
    "    # myrobot.set_noise(0.1, 0.0)\n",
    "    myrobot.set_steering_drift(10.0 / 180.0 * pi) # 10 degree steering error\n",
    "\n",
    "\n",
    "    crosstrack_error = myrobot.y\n",
    "\n",
    "\n",
    "    for i in range(N * 2):\n",
    "\n",
    "        diff_crosstrack_error = myrobot.y - crosstrack_error\n",
    "        crosstrack_error = myrobot.y\n",
    "        int_crosstrack_error += crosstrack_error\n",
    "\n",
    "        steer = - params[0] * crosstrack_error  \\\n",
    "            - params[1] * diff_crosstrack_error \\\n",
    "            - int_crosstrack_error * params[2]\n",
    "        myrobot = myrobot.move(steer, speed)\n",
    "        if i >= N:\n",
    "            err += (crosstrack_error ** 2)\n",
    "        if printflag:\n",
    "            print myrobot, steer\n",
    "    return err / float(N)\n",
    "\n",
    "\n",
    "def twiddle(tol = 0.2): #Make this tolerance bigger if you are timing out!\n",
    "    n_params = 3\n",
    "    dparams = [1.0 for row in range(n_params)]\n",
    "    params = [0.0 for row in range(n_params)]\n",
    "    best_error = run_return_error(params)\n",
    "    n = 0\n",
    "    while sum(dparams) > tol:\n",
    "        for i in range(len(params)):\n",
    "            params[i] += dparams[i]\n",
    "            err = run_return_error(params)\n",
    "            if err < best_error:\n",
    "                best_error = err\n",
    "                dparams[i] *= 1.1\n",
    "            else:\n",
    "                params[i] -= 2.0 * dparams[i]\n",
    "                err = run_return_error(params)\n",
    "                if err < best_error:\n",
    "                    best_error = err\n",
    "                    dparams[i] *= 1.1\n",
    "                else:\n",
    "                    params[i] += dparams[i]\n",
    "                    dparams[i] *= 0.9\n",
    "    \n",
    "        n += 1\n",
    "        print 'Twiddle #', n, params, ' -> ', best_error\n",
    "    return run_return_error(params)"
   ]
  },
  {
   "cell_type": "code",
   "execution_count": 14,
   "metadata": {
    "collapsed": false
   },
   "outputs": [
    {
     "name": "stdout",
     "output_type": "stream",
     "text": [
      "Twiddle # 1 [1.0, 1.0, 0.0]  ->  0.0434970807257\n",
      "Twiddle # 2 [1.0, 2.1, 0.0]  ->  0.0306543736244\n",
      "Twiddle # 3 [1.9900000000000002, 3.3100000000000005, 0.0]  ->  0.00767732002007\n",
      "Twiddle # 4 [3.0790000000000006, 4.641000000000001, 0.0]  ->  0.00322016742712\n",
      "Twiddle # 5 [4.276900000000001, 4.641000000000002, 0.0]  ->  0.0016645945528\n",
      "Twiddle # 6 [5.594590000000002, 5.9586900000000025, 0.0]  ->  0.000976108083168\n",
      "Twiddle # 7 [7.044049000000003, 7.408149000000003, 0.0]  ->  0.000616343236777\n",
      "Twiddle # 8 [8.638453900000004, 9.002553900000004, 0.0]  ->  0.000411027480544\n",
      "Twiddle # 9 [8.638453900000002, 10.756399290000004, 0.43046721000000016]  ->  0.000198773741161\n",
      "Twiddle # 10 [7.059993049000001, 12.685629219000006, 0.43046721000000016]  ->  1.17690259093e-06\n",
      "Twiddle # 11 [5.323686112900001, 14.807782140900008, 0.43046721000000016]  ->  7.05088426932e-07\n",
      "Twiddle # 12 [3.4137484831899996, 12.473413926810004, 0.43046721000000016]  ->  1.37973666889e-12\n",
      "Twiddle # 13 [3.41374848319, 12.473413926810004, 0.43046721000000016]  ->  1.37973666889e-12\n",
      "Twiddle # 14 [3.41374848319, 12.473413926810005, 0.4304672100000001]  ->  1.37973666889e-12\n",
      "Twiddle # 15 [3.41374848319, 10.393491848055813, 0.4304672100000001]  ->  1.07560812409e-12\n",
      "Twiddle # 16 [3.41374848319, 10.393491848055813, 0.4304672100000001]  ->  1.07560812409e-12\n",
      "Twiddle # 17 [3.41374848319, 10.393491848055815, 0.4304672100000001]  ->  1.07560812409e-12\n",
      "Twiddle # 18 [3.41374848319, 12.2467024202258, 0.4304672100000001]  ->  8.12857772855e-13\n",
      "Twiddle # 19 [3.4137484831900005, 12.2467024202258, 0.4304672100000001]  ->  8.12857772855e-13\n",
      "Twiddle # 20 [3.413748483190001, 12.246702420225802, 0.4304672100000001]  ->  8.12857772855e-13\n",
      "Twiddle # 21 [3.413748483190001, 12.246702420225802, 0.5790608989440293]  ->  2.62627437189e-13\n",
      "Twiddle # 22 [3.413748483190001, 12.246702420225802, 0.5790608989440293]  ->  2.62627437189e-13\n",
      "Twiddle # 23 [3.413748483190001, 12.246702420225802, 0.5790608989440293]  ->  2.62627437189e-13\n",
      "Twiddle # 24 [3.4137484831900005, 12.2467024202258, 0.5790608989440293]  ->  2.62627437189e-13\n",
      "Twiddle # 25 [3.413748483190001, 12.246702420225798, 0.5790608989440293]  ->  2.62627437189e-13\n",
      "Twiddle # 26 [3.413748483190001, 12.2467024202258, 0.5790608989440293]  ->  2.62627437189e-13\n",
      "Twiddle # 27 [2.933122768865246, 11.36918139722683, 0.4825435028210135]  ->  3.41546474828e-14\n",
      "Twiddle # 28 [2.933122768865246, 12.334454522525697, 0.3763743670856961]  ->  2.21466016444e-14\n",
      "Twiddle # 29 [2.933122768865246, 11.272654084696942, 0.4931604163945453]  ->  1.11113161417e-15\n",
      "Twiddle # 30 [2.933122768865246, 11.272654084696942, 0.49316041639454533]  ->  1.11113161417e-15\n",
      "Twiddle # 31 [2.933122768865246, 11.27265408469694, 0.49316041639454533]  ->  1.11113161417e-15\n",
      "Twiddle # 32 [2.9331227688652466, 10.326589894591521, 0.49316041639454533]  ->  6.48624842097e-16\n",
      "Twiddle # 33 [2.9331227688652466, 10.326589894591521, 0.49316041639454533]  ->  6.48624842097e-16\n",
      "Twiddle # 34 [2.9331227688652466, 10.326589894591521, 0.49316041639454533]  ->  6.48624842097e-16\n",
      "Twiddle # 35 [2.9331227688652466, 10.326589894591523, 0.4931604163945454]  ->  6.48624842097e-16\n",
      "Twiddle # 36 [2.9331227688652466, 10.326589894591523, 0.49316041639454544]  ->  6.48624842097e-16\n",
      "Twiddle # 37 [2.9331227688652466, 10.326589894591523, 0.49316041639454544]  ->  6.48624842097e-16\n",
      "Twiddle # 38 [2.9331227688652466, 10.326589894591523, 0.4931604163945454]  ->  6.48624842097e-16\n",
      "Twiddle # 39 [2.9331227688652466, 10.326589894591525, 0.49316041639454533]  ->  6.48624842097e-16\n",
      "Twiddle # 40 [2.933122768865246, 10.326589894591526, 0.49316041639454533]  ->  6.48624842097e-16\n",
      "Twiddle # 41 [2.9331227688652457, 10.326589894591526, 0.4931604163945453]  ->  6.48624842097e-16\n",
      "Twiddle # 42 [2.9331227688652453, 10.326589894591526, 0.4931604163945453]  ->  6.48624842097e-16\n",
      "Twiddle # 43 [2.9331227688652453, 10.326589894591528, 0.4931604163945453]  ->  6.48624842097e-16\n",
      "Twiddle # 44 [2.9331227688652453, 10.32658989459153, 0.4931604163945453]  ->  6.48624842097e-16\n",
      "Twiddle # 45 [2.9331227688652453, 10.326589894591532, 0.4931604163945452]  ->  6.48624842097e-16\n",
      "Twiddle # 46 [2.9331227688652453, 10.32658989459153, 0.49316041639454516]  ->  6.48624842097e-16\n",
      "Twiddle # 47 [2.933122768865245, 10.32658989459153, 0.49316041639454516]  ->  6.48624842097e-16\n",
      "Twiddle # 48 [2.9331227688652453, 10.32658989459153, 0.49316041639454516]  ->  6.48624842097e-16\n",
      "Twiddle # 49 [2.9331227688652457, 10.326589894591528, 0.4931604163945451]  ->  6.48624842097e-16\n",
      "Twiddle # 50 [2.9331227688652457, 10.326589894591526, 0.4931604163945451]  ->  6.48624842097e-16\n",
      "Twiddle # 51 [2.9331227688652457, 10.326589894591526, 0.49316041639454505]  ->  6.48624842097e-16\n"
     ]
    },
    {
     "data": {
      "text/plain": [
       "6.486248419977683e-16"
      ]
     },
     "execution_count": 14,
     "metadata": {},
     "output_type": "execute_result"
    }
   ],
   "source": [
    "twiddle()"
   ]
  },
  {
   "cell_type": "markdown",
   "metadata": {},
   "source": [
    "# Cyclic Smoothing"
   ]
  },
  {
   "cell_type": "code",
   "execution_count": 15,
   "metadata": {
    "collapsed": true
   },
   "outputs": [],
   "source": [
    "# Homework\n",
    "\n",
    "# -------------\n",
    "# User Instructions\n",
    "#\n",
    "# Here you will be implementing a cyclic smoothing\n",
    "# algorithm. This algorithm should not fix the end\n",
    "# points (as you did in the unit quizzes). You  \n",
    "# should use the gradient descent equations that\n",
    "# you used previously.\n",
    "#\n",
    "# Your function should return the newpath that it\n",
    "# calculates.\n",
    "#\n",
    "# Feel free to use the provided solution_check function\n",
    "# to test your code. You can find it at the bottom.\n",
    "#\n",
    "# --------------\n",
    "# Testing Instructions\n",
    "# \n",
    "# To test your code, call the solution_check function with\n",
    "# two arguments. The first argument should be the result of your\n",
    "# smooth function. The second should be the corresponding answer.\n",
    "# For example, calling\n",
    "#\n",
    "# solution_check(smooth(testpath1), answer1)\n",
    "#\n",
    "# should return True if your answer is correct and False if\n",
    "# it is not.\n",
    "\n",
    "from math import *\n",
    "\n",
    "# Do not modify path inside your function.\n",
    "path=[[0, 0], \n",
    "      [1, 0],\n",
    "      [2, 0],\n",
    "      [3, 0],\n",
    "      [4, 0],\n",
    "      [5, 0],\n",
    "      [6, 0],\n",
    "      [6, 1],\n",
    "      [6, 2],\n",
    "      [6, 3],\n",
    "      [5, 3],\n",
    "      [4, 3],\n",
    "      [3, 3],\n",
    "      [2, 3],\n",
    "      [1, 3],\n",
    "      [0, 3],\n",
    "      [0, 2],\n",
    "      [0, 1]]\n",
    "\n",
    "############# ONLY ENTER CODE BELOW THIS LINE ##########\n",
    "\n",
    "# ------------------------------------------------\n",
    "# smooth coordinates\n",
    "# If your code is timing out, make the tolerance parameter\n",
    "# larger to decrease run time.\n",
    "#\n",
    "\n",
    "def cyclic_smooth(path, weight_data = 0.1, weight_smooth = 0.1, tolerance = 0.00001):\n",
    "\n",
    "    newpath = deepcopy(path)\n",
    "\n",
    "    change = tolerance    \n",
    "    while change >= tolerance:\n",
    "        change = 0\n",
    "        for i in range(len(path)):\n",
    "            for j in range(len(path[0])):\n",
    "                oldpath = newpath[i][j]\n",
    "                newpath[i][j] += weight_data * (path[i][j] - newpath[i][j]) +\\\n",
    "                                weight_smooth * (newpath[(i + 1) % len(path)][j] + newpath[(i-1) % len(path)][j] - 2 * newpath[i][j])\n",
    "                change += abs(newpath[i][j] - oldpath)\n",
    "    return newpath\n",
    "\n",
    "\n",
    "##### TESTING ######\n",
    "\n",
    "# --------------------------------------------------\n",
    "# check if two numbers are 'close enough,'used in\n",
    "# solution_check function.\n",
    "#\n",
    "def close_enough(user_answer, true_answer, epsilon = 0.001):\n",
    "    if abs(user_answer - true_answer) > epsilon:\n",
    "        return False\n",
    "    return True\n",
    "\n",
    "# --------------------------------------------------\n",
    "# check your solution against our reference solution for\n",
    "# a variety of test cases (given below)\n",
    "#\n",
    "def solution_check(newpath, answer):\n",
    "    if type(newpath) != type(answer):\n",
    "        print \"Error. You do not return a list.\"\n",
    "        return False\n",
    "    if len(newpath) != len(answer):\n",
    "        print 'Error. Your newpath is not the correct length.'\n",
    "        return False\n",
    "    if len(newpath[0]) != len(answer[0]):\n",
    "        print 'Error. Your entries do not contain an (x, y) coordinate pair.'\n",
    "        return False\n",
    "    for i in range(len(newpath)): \n",
    "        for j in range(len(newpath[0])):\n",
    "            if not close_enough(newpath[i][j], answer[i][j]):\n",
    "                print 'Error, at least one of your entries is not correct.'\n",
    "                return False\n",
    "    print \"Test case correct!\"\n",
    "    return True"
   ]
  },
  {
   "cell_type": "code",
   "execution_count": 16,
   "metadata": {
    "collapsed": false
   },
   "outputs": [
    {
     "name": "stdout",
     "output_type": "stream",
     "text": [
      "Test case correct!\n"
     ]
    },
    {
     "data": {
      "text/plain": [
       "True"
      ]
     },
     "execution_count": 16,
     "metadata": {},
     "output_type": "execute_result"
    }
   ],
   "source": [
    "# --------------\n",
    "# Testing Instructions\n",
    "# \n",
    "# To test your code, call the solution_check function with\n",
    "# two arguments. The first argument should be the result of your\n",
    "# smooth function. The second should be the corresponding answer.\n",
    "# For example, calling\n",
    "#\n",
    "# solution_check(cyclic_smooth(testpath1), answer1)\n",
    "#\n",
    "# should return True if your answer is correct and False if\n",
    "# it is not.\n",
    "    \n",
    "testpath1 = [[0, 0],\n",
    "             [1, 0],\n",
    "             [2, 0],\n",
    "             [3, 0],\n",
    "             [4, 0],\n",
    "             [5, 0],\n",
    "             [6, 0],\n",
    "             [6, 1],\n",
    "             [6, 2],\n",
    "             [6, 3],\n",
    "             [5, 3],\n",
    "             [4, 3],\n",
    "             [3, 3],\n",
    "             [2, 3],\n",
    "             [1, 3],\n",
    "             [0, 3],\n",
    "             [0, 2],\n",
    "             [0, 1]]\n",
    "\n",
    "answer1 = [[0.4705860385182691, 0.4235279620576893], \n",
    "           [1.1764695730296597, 0.16470408411716733], \n",
    "           [2.058823799247812, 0.07058633859438503], \n",
    "           [3.000001503542886, 0.04705708651959327], \n",
    "           [3.9411790099468273, 0.07058689299792453], \n",
    "           [4.8235326678889345, 0.16470511854183797], \n",
    "           [5.529415336860586, 0.4235293374365447], \n",
    "           [5.76470933698621, 1.1058829941330384], \n",
    "           [5.764708805535902, 1.8941189433780983], \n",
    "           [5.5294138118186265, 2.5764724018811056], \n",
    "           [4.823530348360371, 2.835296251305122], \n",
    "           [3.941176199414957, 2.929413985845729],\n",
    "           [2.9999985709076413, 2.952943245204772], \n",
    "           [2.0588211310939526, 2.9294134622132018], \n",
    "           [1.1764675231284938, 2.8352952720424938], \n",
    "           [0.4705848811030855, 2.5764710948028178], \n",
    "           [0.23529088056307781, 1.8941174802285707], \n",
    "           [0.23529138316655338, 1.1058815684272394]]\n",
    "\n",
    "testpath2 = [[1, 0], # Move in the shape of a plus sign\n",
    "             [2, 0],\n",
    "             [2, 1],\n",
    "             [3, 1],\n",
    "             [3, 2],\n",
    "             [2, 2],\n",
    "             [2, 3],\n",
    "             [1, 3],\n",
    "             [1, 2],\n",
    "             [0, 2], \n",
    "             [0, 1],\n",
    "             [1, 1]]\n",
    "\n",
    "answer2 = [[1.2222234770374059, 0.4444422843711052],\n",
    "           [1.7777807251383388, 0.4444432993123497], \n",
    "           [2.111114925633848, 0.8888894279539462], \n",
    "           [2.5555592020540376, 1.2222246475393077], \n",
    "           [2.5555580686154244, 1.7777817817879298], \n",
    "           [2.111111849558437, 2.1111159707965514], \n",
    "           [1.7777765871460525, 2.55556033483712], \n",
    "           [1.2222194640861452, 2.5555593592828543], \n",
    "           [0.8888853322565222, 2.111113321684573], \n",
    "           [0.44444105139827167, 1.777778212019149], \n",
    "           [0.44444210978390364, 1.2222211690821811], \n",
    "           [0.8888882042812255, 0.8888870211766268]]\n",
    "\n",
    "solution_check(cyclic_smooth(testpath1), answer1)\n",
    "#solution_check(cyclic_smooth(testpath2), answer2)"
   ]
  },
  {
   "cell_type": "code",
   "execution_count": 17,
   "metadata": {
    "collapsed": false
   },
   "outputs": [
    {
     "data": {
      "image/png": "[encoded data removed]",
      "text/plain": [
       "<matplotlib.figure.Figure at 0x8b61c50>"
      ]
     },
     "metadata": {},
     "output_type": "display_data"
    }
   ],
   "source": [
    "plot_paths(testpath1,cyclic_smooth(testpath1))"
   ]
  },
  {
   "cell_type": "code",
   "execution_count": null,
   "metadata": {
    "collapsed": false
   },
   "outputs": [],
   "source": []
  },
  {
   "cell_type": "markdown",
   "metadata": {},
   "source": [
    "# Constrained Smoothing"
   ]
  },
  {
   "cell_type": "code",
   "execution_count": 18,
   "metadata": {
    "collapsed": false
   },
   "outputs": [
    {
     "name": "stdout",
     "output_type": "stream",
     "text": [
      "smooth returned the correct answer for the path:\n",
      "[[0, 0], #fix\n",
      " [1, 0],\n",
      " [2, 0],\n",
      " [3, 0],\n",
      " [4, 0],\n",
      " [5, 0],\n",
      " [6, 0], #fix\n",
      " [6, 1],\n",
      " [6, 2],\n",
      " [6, 3], #fix\n",
      " [5, 3],\n",
      " [4, 3],\n",
      " [3, 3],\n",
      " [2, 3],\n",
      " [1, 3],\n",
      " [0, 3], #fix\n",
      " [0, 2],\n",
      " [0, 1]]\n",
      "\n",
      "smooth returned the correct answer for the path:\n",
      "[[0, 0], #fix\n",
      " [2, 0],\n",
      " [4, 0], #fix\n",
      " [4, 2],\n",
      " [4, 4], #fix\n",
      " [2, 4],\n",
      " [0, 4], #fix\n",
      " [0, 2]]\n",
      "\n"
     ]
    }
   ],
   "source": [
    "# -------------\n",
    "# User Instructions\n",
    "#\n",
    "# Now you will be incorporating fixed points into\n",
    "# your smoother. \n",
    "#\n",
    "# You will need to use the equations from gradient\n",
    "# descent AND the new equations presented in the\n",
    "# previous lecture to implement smoothing with\n",
    "# fixed points.\n",
    "#\n",
    "# Your function should return the newpath that it\n",
    "# calculates. \n",
    "#\n",
    "# Feel free to use the provided solution_check function\n",
    "# to test your code. You can find it at the bottom.\n",
    "#\n",
    "\n",
    "######################## ENTER CODE BELOW HERE #########################\n",
    "\n",
    "def constrained_smooth(path, fix, weight_data = 0.0, weight_smooth = 0.1, tolerance = 0.00001):\n",
    "    newpath = deepcopy(path)\n",
    "\n",
    "    change = tolerance    \n",
    "    while change >= tolerance:\n",
    "        change = 0\n",
    "        for i in range(len(path)):\n",
    "            if not fix[i]:\n",
    "                for j in range(len(path[0])):\n",
    "                    oldpath = newpath[i][j]\n",
    "                    newpath[i][j] += weight_data * (path[i][j] - newpath[i][j])\n",
    "                    newpath[i][j] += weight_smooth * (newpath[(i + 1) % len(path)][j] + \\\n",
    "                                                      newpath[(i-1) % len(path)][j] - 2 * newpath[i][j]) +\\\n",
    "                                     weight_smooth / 2.0 * (2 * newpath[(i - 1) % len(path)][j] - \\\n",
    "                                                            newpath[(i-2) % len(path)][j] - newpath[i][j]) +\\\n",
    "                                     weight_smooth / 2.0 * (2 * newpath[(i + 1) % len(path)][j] - \\\n",
    "                                                            newpath[(i+2) % len(path)][j] - newpath[i][j])\n",
    "                    change += abs(newpath[i][j] - oldpath)\n",
    "    return newpath\n",
    "\n",
    "# --------------\n",
    "# Testing Instructions\n",
    "# \n",
    "# To test your code, call the solution_check function with the argument smooth:\n",
    "# solution_check(smooth)\n",
    "#\n",
    "\n",
    "def solution_check(smooth, eps = 0.0001):\n",
    "    \n",
    "    def test_case_str(path, fix):\n",
    "        assert( len(path) == len(fix) )\n",
    "\n",
    "        if len(path) == 0:\n",
    "            return '[]'\n",
    "        if len(path) == 1:\n",
    "            s = '[' + str(path[0]) + ']'\n",
    "            if fix[0]: s += ' #fix'\n",
    "            return s\n",
    "\n",
    "        s = '[' + str(path[0]) + ','\n",
    "        if fix[0]: s += ' #fix'\n",
    "        for pt,f in zip(path[1:-1],fix[1:-1]):\n",
    "            s += '\\n ' + str(pt) + ','\n",
    "            if f: s += ' #fix'\n",
    "        s += '\\n ' + str(path[-1]) + ']'\n",
    "        if fix[-1]: s += ' #fix'\n",
    "        return s\n",
    "    \n",
    "    testpaths = [[[0, 0],[1, 0],[2, 0],[3, 0],[4, 0],[5, 0],[6, 0],[6, 1],[6, 2],[6, 3],\n",
    "                  [5, 3],[4, 3],[3, 3],[2, 3],[1, 3],[0, 3],[0, 2],[0, 1]],\n",
    "                 [[0, 0],[2, 0],[4, 0],[4, 2],[4, 4],[2, 4],[0, 4],[0, 2]]]\n",
    "    testfixpts = [[1, 0, 0, 0, 0, 0, 1, 0, 0, 1, 0, 0, 0, 0, 0, 1, 0, 0],\n",
    "                  [1, 0, 1, 0, 1, 0, 1, 0]]\n",
    "    pseudo_answers = [[[0, 0],\n",
    "                       [0.7938620981547201, -0.8311168821106101],\n",
    "                       [1.8579052986461084, -1.3834788165869276],\n",
    "                       [3.053905318597796, -1.5745863173084],\n",
    "                       [4.23141390533387, -1.3784271816058231],\n",
    "                       [5.250184859723701, -0.8264215958231558],\n",
    "                       [6, 0],\n",
    "                       [6.415150091996651, 0.9836951698796843],\n",
    "                       [6.41942442687092, 2.019512290770163],\n",
    "                       [6, 3],\n",
    "                       [5.206131365604606, 3.831104483245191],\n",
    "                       [4.142082497497067, 4.383455704596517],\n",
    "                       [2.9460804122779813, 4.5745592975708105],\n",
    "                       [1.768574219397359, 4.378404668718541],\n",
    "                       [0.7498089205417316, 3.826409771585794],\n",
    "                       [0, 3],\n",
    "                       [-0.4151464728194156, 2.016311854977891],\n",
    "                       [-0.4194207879552198, 0.9804948340550833]],\n",
    "                      [[0, 0],\n",
    "                       [2.0116767115496095, -0.7015439080661671],\n",
    "                       [4, 0],\n",
    "                       [4.701543905420104, 2.0116768147460418],\n",
    "                       [4, 4],\n",
    "                       [1.9883231877640861, 4.701543807525115],\n",
    "                       [0, 4],\n",
    "                       [-0.7015438099112995, 1.9883232808252207]]]\n",
    "    true_answers = [[[0, 0],\n",
    "                     [0.7826068175979299, -0.6922616156406778],\n",
    "                     [1.826083356960912, -1.107599209206985],\n",
    "                     [2.999995745732953, -1.2460426422963626],\n",
    "                     [4.173909508264126, -1.1076018591282746],\n",
    "                     [5.217389489606966, -0.6922642758483151],\n",
    "                     [6, 0],\n",
    "                     [6.391305105067843, 0.969228211275216],\n",
    "                     [6.391305001845138, 2.0307762911524616],\n",
    "                     [6, 3],\n",
    "                     [5.217390488523538, 3.6922567975830876],\n",
    "                     [4.17391158149052, 4.107590195596796],\n",
    "                     [2.9999982969959467, 4.246032043344827],\n",
    "                     [1.8260854997325473, 4.107592961155283],\n",
    "                     [0.7826078838205919, 3.692259569132191],\n",
    "                     [0, 3],\n",
    "                     [-0.3913036785959153, 2.030774470796648], \n",
    "                     [-0.3913035729270973, 0.9692264531461132]],\n",
    "                    [[0, 0],\n",
    "                     [1.9999953708444873, -0.6666702980585777],\n",
    "                     [4, 0],\n",
    "                     [4.666670298058577, 2.000005101453379],\n",
    "                     [4, 4],\n",
    "                     [1.9999948985466212, 4.6666612524128],\n",
    "                     [0, 4],\n",
    "                     [-0.6666612524127998, 2.000003692691148]]]\n",
    "    newpaths = map(lambda p: smooth(*p), zip(testpaths,testfixpts))\n",
    "    \n",
    "    correct = True\n",
    "    \n",
    "    for path,fix,p_answer,t_answer,newpath in zip(testpaths,testfixpts,\n",
    "                                                   pseudo_answers,true_answers,\n",
    "                                                   newpaths):\n",
    "        if type(newpath) != list:\n",
    "            print \"Error: smooth did not return a list for the path:\"\n",
    "            print test_case_str(path,fix) + '\\n'\n",
    "            correct = False\n",
    "            continue\n",
    "        if len(newpath) != len(path):\n",
    "            print \"Error: smooth did not return a list of the correct length for the path:\"\n",
    "            print test_case_str(path,fix) + '\\n'\n",
    "            correct = False\n",
    "            continue\n",
    "\n",
    "        good_pairs = True\n",
    "        for newpt,pt in zip(newpath,path): \n",
    "            if len(newpt) != len(pt):\n",
    "                good_pairs = False\n",
    "                break\n",
    "        if not good_pairs:\n",
    "            print \"Error: smooth did not return a list of coordinate pairs for the path:\"\n",
    "            print test_case_str(path,fix) + '\\n'\n",
    "            correct = False\n",
    "            continue\n",
    "        assert( good_pairs )\n",
    "        \n",
    "        # check whether to check against true or pseudo answers\n",
    "        answer = None\n",
    "        if abs(newpath[1][0] - t_answer[1][0]) <= eps:\n",
    "            answer = t_answer\n",
    "        elif abs(newpath[1][0] - p_answer[1][0]) <= eps:\n",
    "            answer = p_answer\n",
    "        else:\n",
    "            print 'smooth returned an incorrect answer for the path:'\n",
    "            print test_case_str(path,fix) + '\\n'\n",
    "            continue\n",
    "        assert( answer is not None )\n",
    "\n",
    "        entries_match = True\n",
    "        for p,q in zip(newpath,answer):\n",
    "            for pi,qi in zip(p,q):\n",
    "                if abs(pi - qi) > eps:\n",
    "                    entries_match = False\n",
    "                    break\n",
    "            if not entries_match: break\n",
    "        if not entries_match:\n",
    "            print 'smooth returned an incorrect answer for the path:'\n",
    "            print test_case_str(path,fix) + '\\n'\n",
    "            continue\n",
    "            \n",
    "        assert( entries_match )\n",
    "        if answer == t_answer:\n",
    "            print 'smooth returned the correct answer for the path:'\n",
    "            print test_case_str(path,fix) + '\\n'\n",
    "        elif answer == p_answer:\n",
    "            print 'smooth returned a correct* answer for the path:'\n",
    "            print test_case_str(path,fix)\n",
    "            print '''*However, your answer uses the \"nonsimultaneous\" update method, which\n",
    "is not technically correct. You should modify your code so that newpath[i][j] is only \n",
    "updated once per iteration, or else the intermediate updates made to newpath[i][j]\n",
    "will affect the final answer.\\n'''\n",
    "\n",
    "solution_check(constrained_smooth)"
   ]
  },
  {
   "cell_type": "code",
   "execution_count": 19,
   "metadata": {
    "collapsed": false
   },
   "outputs": [
    {
     "data": {
      "image/png": "[encoded data removed]",
      "text/plain": [
       "<matplotlib.figure.Figure at 0x89d9e48>"
      ]
     },
     "metadata": {},
     "output_type": "display_data"
    }
   ],
   "source": [
    "testpaths = [[0, 0],[1, 0],[2, 0],[3, 0],[4, 0],[5, 0],[6, 0],[6, 1],[6, 2],[6, 3],\n",
    "                  [5, 3],[4, 3],[3, 3],[2, 3],[1, 3],[0, 3],[0, 2],[0, 1]]\n",
    "fix=[1, 0, 0, 0, 0, 0, 1, 0, 0, 1, 0, 0, 0, 0, 0, 1, 0, 0]\n",
    "plot_paths(testpaths,constrained_smooth(testpaths,fix))"
   ]
  },
  {
   "cell_type": "markdown",
   "metadata": {
    "collapsed": false
   },
   "source": [
    "# Racetrack Control"
   ]
  },
  {
   "cell_type": "code",
   "execution_count": 20,
   "metadata": {
    "collapsed": true
   },
   "outputs": [],
   "source": [
    "# --------------\n",
    "# User Instructions\n",
    "# \n",
    "# Define a function cte in the robot class that will\n",
    "# compute the crosstrack error for a robot on a\n",
    "# racetrack with a shape as described in the video.\n",
    "#\n",
    "# You will need to base your error calculation on\n",
    "# the robot's location on the track. Remember that \n",
    "# the robot will be traveling to the right on the\n",
    "# upper straight segment and to the left on the lower\n",
    "# straight segment.\n",
    "#\n",
    "# --------------\n",
    "# Grading Notes\n",
    "#\n",
    "# We will be testing your cte function directly by\n",
    "# calling it with different robot locations and making\n",
    "# sure that it returns the correct crosstrack error.  \n",
    " \n",
    "from math import *\n",
    "import random\n",
    "\n",
    "\n",
    "# ------------------------------------------------\n",
    "# \n",
    "# this is the robot class\n",
    "#\n",
    "\n",
    "class robot:\n",
    "\n",
    "    # --------\n",
    "    # init: \n",
    "    #    creates robot and initializes location/orientation to 0, 0, 0\n",
    "    #\n",
    "\n",
    "    def __init__(self, length = 20.0):\n",
    "        self.x = 0.0\n",
    "        self.y = 0.0\n",
    "        self.orientation = 0.0\n",
    "        self.length = length\n",
    "        self.steering_noise = 0.0\n",
    "        self.distance_noise = 0.0\n",
    "        self.steering_drift = 0.0\n",
    "\n",
    "    # --------\n",
    "    # set: \n",
    "    #\tsets a robot coordinate\n",
    "    #\n",
    "\n",
    "    def set(self, new_x, new_y, new_orientation):\n",
    "\n",
    "        self.x = float(new_x)\n",
    "        self.y = float(new_y)\n",
    "        self.orientation = float(new_orientation) % (2.0 * pi)\n",
    "\n",
    "\n",
    "    # --------\n",
    "    # set_noise: \n",
    "    #\tsets the noise parameters\n",
    "    #\n",
    "\n",
    "    def set_noise(self, new_s_noise, new_d_noise):\n",
    "        # makes it possible to change the noise parameters\n",
    "        # this is often useful in particle filters\n",
    "        self.steering_noise = float(new_s_noise)\n",
    "        self.distance_noise = float(new_d_noise)\n",
    "\n",
    "    # --------\n",
    "    # set_steering_drift: \n",
    "    #\tsets the systematical steering drift parameter\n",
    "    #\n",
    "\n",
    "    def set_steering_drift(self, drift):\n",
    "        self.steering_drift = drift\n",
    "        \n",
    "    # --------\n",
    "    # move: \n",
    "    #    steering = front wheel steering angle, limited by max_steering_angle\n",
    "    #    distance = total distance driven, most be non-negative\n",
    "\n",
    "    def move(self, steering, distance, \n",
    "             tolerance = 0.001, max_steering_angle = pi / 4.0):\n",
    "\n",
    "        if steering > max_steering_angle:\n",
    "            steering = max_steering_angle\n",
    "        if steering < -max_steering_angle:\n",
    "            steering = -max_steering_angle\n",
    "        if distance < 0.0:\n",
    "            distance = 0.0\n",
    "\n",
    "\n",
    "        # make a new copy\n",
    "        res = robot()\n",
    "        res.length         = self.length\n",
    "        res.steering_noise = self.steering_noise\n",
    "        res.distance_noise = self.distance_noise\n",
    "        res.steering_drift = self.steering_drift\n",
    "\n",
    "        # apply noise\n",
    "        steering2 = random.gauss(steering, self.steering_noise)\n",
    "        distance2 = random.gauss(distance, self.distance_noise)\n",
    "\n",
    "        # apply steering drift\n",
    "        steering2 += self.steering_drift\n",
    "\n",
    "        # Execute motion\n",
    "        turn = tan(steering2) * distance2 / res.length\n",
    "\n",
    "        if abs(turn) < tolerance:\n",
    "\n",
    "            # approximate by straight line motion\n",
    "\n",
    "            res.x = self.x + (distance2 * cos(self.orientation))\n",
    "            res.y = self.y + (distance2 * sin(self.orientation))\n",
    "            res.orientation = (self.orientation + turn) % (2.0 * pi)\n",
    "\n",
    "        else:\n",
    "\n",
    "            # approximate bicycle model for motion\n",
    "\n",
    "            radius = distance2 / turn\n",
    "            cx = self.x - (sin(self.orientation) * radius)\n",
    "            cy = self.y + (cos(self.orientation) * radius)\n",
    "            res.orientation = (self.orientation + turn) % (2.0 * pi)\n",
    "            res.x = cx + (sin(res.orientation) * radius)\n",
    "            res.y = cy - (cos(res.orientation) * radius)\n",
    "\n",
    "        return res\n",
    "\n",
    "\n",
    "\n",
    "\n",
    "    def __repr__(self):\n",
    "        return '[x=%.5f y=%.5f orient=%.5f]'  % (self.x, self.y, self.orientation)\n",
    "\n",
    "   \n",
    "    def cte(self, radius):\n",
    "        # \n",
    "        #\n",
    "        x = self.x\n",
    "        y = self.y\n",
    "        cte = 0\n",
    "        if x <= radius:\n",
    "            cte = sqrt((x - radius) ** 2 + (y - radius) ** 2) - radius\n",
    "        elif x >= 3 * radius:\n",
    "            cte = sqrt((x - 3 * radius) ** 2 + (y - radius) ** 2) - radius\n",
    "        elif y > radius:\n",
    "            cte = y - 2 * radius\n",
    "        else:\n",
    "            cte = -y\n",
    "        #\n",
    "        #            \n",
    "        return cte\n",
    "    \n",
    "\n",
    "\n",
    "\n",
    "\n",
    "# ------------------------------------------------------------------------\n",
    "#\n",
    "# run - does a single control run.\n",
    "\n",
    "\n",
    "def racetrack_run(params, radius, printflag = False):\n",
    "    myrobot = robot()\n",
    "    myrobot.set(0.0, radius, pi / 2.0)\n",
    "    speed = 1.0 # motion distance is equal to speed (we assume time = 1)\n",
    "    err = 0.0\n",
    "    int_crosstrack_error = 0.0\n",
    "    N = 200\n",
    "\n",
    "    crosstrack_error = myrobot.cte(radius) # You need to define the cte function!\n",
    "    x = []\n",
    "    y = []\n",
    "    for i in range(N*2):\n",
    "        # PID control\n",
    "        x.append(myrobot.x)\n",
    "        y.append(myrobot.y)\n",
    "        diff_crosstrack_error = - crosstrack_error\n",
    "        crosstrack_error = myrobot.cte(radius)\n",
    "        diff_crosstrack_error += crosstrack_error\n",
    "        int_crosstrack_error += crosstrack_error\n",
    "        steer = - params[0] * crosstrack_error \\\n",
    "                - params[1] * diff_crosstrack_error \\\n",
    "                - params[2] * int_crosstrack_error\n",
    "        myrobot = myrobot.move(steer, speed)\n",
    "        if i >= N:\n",
    "            err += crosstrack_error ** 2\n",
    "        if printflag:\n",
    "            print myrobot\n",
    "    plot_PID_response(x,y,'RaceTrack')\n",
    "    return err / float(N)"
   ]
  },
  {
   "cell_type": "code",
   "execution_count": 21,
   "metadata": {
    "collapsed": false
   },
   "outputs": [
    {
     "name": "stdout",
     "output_type": "stream",
     "text": [
      "\n",
      "Final parameters:  [10.0, 15.0, 0] \n",
      " -> 0.00586850481282\n"
     ]
    },
    {
     "data": {
      "image/png": "[encoded data removed]",
      "text/plain": [
       "<matplotlib.figure.Figure at 0x7f56b38>"
      ]
     },
     "metadata": {},
     "output_type": "display_data"
    }
   ],
   "source": [
    "radius = 25.0\n",
    "params = [10.0, 15.0, 0]\n",
    "err = racetrack_run(params, radius, False)\n",
    "print '\\nFinal parameters: ', params, '\\n ->', err"
   ]
  },
  {
   "cell_type": "code",
   "execution_count": null,
   "metadata": {
    "collapsed": true
   },
   "outputs": [],
   "source": []
  }
 ],
 "metadata": {
  "kernelspec": {
   "display_name": "Python 2",
   "language": "python",
   "name": "python2"
  },
  "language_info": {
   "codemirror_mode": {
    "name": "ipython",
    "version": 2
   },
   "file_extension": ".py",
   "mimetype": "text/x-python",
   "name": "python",
   "nbconvert_exporter": "python",
   "pygments_lexer": "ipython2",
   "version": "2.7.11"
  }
 },
 "nbformat": 4,
 "nbformat_minor": 0
}
